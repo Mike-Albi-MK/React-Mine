{
 "cells": [
  {
   "cell_type": "code",
   "execution_count": null,
   "metadata": {},
   "outputs": [],
   "source": [
    "dci-student@dciadmin-ThinkPad-L15-Gen-3:~$ cd /\n",
    "dci-student@dciadmin-ThinkPad-L15-Gen-3:/$ cd ~\n",
    "dci-student@dciadmin-ThinkPad-L15-Gen-3:~$ pwd\n",
    "/home/dci-student\n",
    "dci-student@dciadmin-ThinkPad-L15-Gen-3:~$ cd /\n",
    "dci-student@dciadmin-ThinkPad-L15-Gen-3:/$ ls \n",
    "bin    dev   lib    libx32      mnt   root  snap      sys  var\n",
    "boot   etc   lib32  lost+found  opt   run   srv       tmp\n",
    "cdrom  home  lib64  media       proc  sbin  swapfile  usr\n",
    "dci-student@dciadmin-ThinkPad-L15-Gen-3:/$ cd home\n",
    "dci-student@dciadmin-ThinkPad-L15-Gen-3:/home$ ls\n",
    "dci-admin  dci-student\n",
    "dci-student@dciadmin-ThinkPad-L15-Gen-3:/home$ cd dci-student\n",
    "dci-student@dciadmin-ThinkPad-L15-Gen-3:~$ cd Doc\n",
    "bash: cd: Doc: No such file or directory\n",
    "dci-student@dciadmin-ThinkPad-L15-Gen-3:~$ cd Documents/\n",
    "dci-student@dciadmin-ThinkPad-L15-Gen-3:~/Documents$ \n",
    "\n"
   ]
  }
 ],
 "metadata": {
  "language_info": {
   "name": "python"
  }
 },
 "nbformat": 4,
 "nbformat_minor": 2
}
